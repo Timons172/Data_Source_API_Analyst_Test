{
  "nbformat": 4,
  "nbformat_minor": 0,
  "metadata": {
    "colab": {
      "provenance": []
    },
    "kernelspec": {
      "name": "python3",
      "display_name": "Python 3"
    },
    "language_info": {
      "name": "python"
    }
  },
  "cells": [
    {
      "cell_type": "markdown",
      "source": [
        "# Step-by-step guide of GitHub API researching"
      ],
      "metadata": {
        "id": "NayV-xJmMFzn"
      }
    },
    {
      "cell_type": "markdown",
      "source": [
        "## 1. Install required libraries\n",
        "\n",
        "\n"
      ],
      "metadata": {
        "id": "PP3b3osmMqCd"
      }
    },
    {
      "cell_type": "code",
      "source": [
        "!pip install requests"
      ],
      "metadata": {
        "id": "3iezCke_MKLz"
      },
      "execution_count": null,
      "outputs": []
    },
    {
      "cell_type": "markdown",
      "source": [
        "## 2. Set up basic imports"
      ],
      "metadata": {
        "id": "9TYs_EkzNaz9"
      }
    },
    {
      "cell_type": "code",
      "source": [
        "import requests\n",
        "import json\n",
        "import time\n",
        "from pprint import pprint"
      ],
      "metadata": {
        "id": "9c9ID9SdNf4O"
      },
      "execution_count": null,
      "outputs": []
    },
    {
      "cell_type": "markdown",
      "source": [
        "## 3. Set up token and headers"
      ],
      "metadata": {
        "id": "WgtSs98mTpan"
      }
    },
    {
      "cell_type": "code",
      "source": [
        "TOKEN = \"your-token\"\n",
        "HEADERS = {\n",
        "    \"Accept\": \"application/vnd.github+json\",\n",
        "    \"Authorization\": f\"Bearer {TOKEN}\",\n",
        "    \"X-GitHub-Api-Version\": \"2022-11-28\"\n",
        "}"
      ],
      "metadata": {
        "id": "91l3UmlFTouN"
      },
      "execution_count": null,
      "outputs": []
    },
    {
      "cell_type": "markdown",
      "source": [
        "## 4. Handle troubles"
      ],
      "metadata": {
        "id": "d5oYC3S_dtH_"
      }
    },
    {
      "cell_type": "markdown",
      "source": [
        "### Handle authentication"
      ],
      "metadata": {
        "id": "mS9zIaMdvdqo"
      }
    },
    {
      "cell_type": "code",
      "source": [
        "def test_authentication():\n",
        "    url = \"https://api.github.com/user\"\n",
        "    response = requests.get(url, headers=HEADERS)\n",
        "    if response.status_code == 200:\n",
        "        print(\"Authentication successful!\")\n",
        "    else:\n",
        "        print(f\"Authentication failed: {response.status_code}\")\n",
        "        pprint(response.json())\n",
        "\n",
        "test_authentication()"
      ],
      "metadata": {
        "id": "peJGkDZxvjAi"
      },
      "execution_count": null,
      "outputs": []
    },
    {
      "cell_type": "markdown",
      "source": [
        "### - Handle rate limits"
      ],
      "metadata": {
        "id": "jErtOtede_Bo"
      }
    },
    {
      "cell_type": "code",
      "source": [
        "def check_rate_limit():\n",
        "    url = \"https://api.github.com/rate_limit\"\n",
        "    response = requests.get(url, headers=HEADERS)\n",
        "    rate_limit = response.json()\n",
        "    remaining = rate_limit['rate']['remaining']\n",
        "    reset_time = rate_limit['rate']['reset']\n",
        "\n",
        "    if remaining == 0:\n",
        "        wait_time = reset_time - time.time()\n",
        "        print(f\"Rate limit exceeded. Waiting for {wait_time:.2f} seconds.\")\n",
        "        time.sleep(wait_time + 1)\n",
        "    else:\n",
        "        print(f\"Requests remaining: {remaining}\")"
      ],
      "metadata": {
        "id": "HT8nuRa3dHt5"
      },
      "execution_count": null,
      "outputs": []
    },
    {
      "cell_type": "markdown",
      "source": [
        "### - Handle pagination"
      ],
      "metadata": {
        "id": "anrX0blnfpjA"
      }
    },
    {
      "cell_type": "code",
      "source": [
        "def fetch_all_pages(fetch_function, *args, **kwargs):\n",
        "    all_results = []\n",
        "    page = 1\n",
        "    while True:\n",
        "        print(f\"Fetching page {page}...\")\n",
        "        check_rate_limit()\n",
        "        results = fetch_function(*args, **kwargs, page=page)\n",
        "        if not results:\n",
        "            print(\"No more results to fetch.\")\n",
        "            break\n",
        "        all_results.extend(results)\n",
        "        page += 1\n",
        "        time.sleep(0.5)\n",
        "    return all_results"
      ],
      "metadata": {
        "id": "oKwDlKJtfvcu"
      },
      "execution_count": null,
      "outputs": []
    },
    {
      "cell_type": "markdown",
      "source": [
        "## 5. Define API functions"
      ],
      "metadata": {
        "id": "EmhASLpWqfGv"
      }
    },
    {
      "cell_type": "markdown",
      "source": [
        "### - Search repositories"
      ],
      "metadata": {
        "id": "25y8Hu3kq2q0"
      }
    },
    {
      "cell_type": "code",
      "source": [
        "def search_repositories(query, per_page=10, page=1):\n",
        "    url = \"https://api.github.com/search/repositories\"\n",
        "    params = {\"q\": query, \"per_page\": per_page, \"page\": page}\n",
        "    response = requests.get(url, headers=HEADERS, params=params)\n",
        "    if response.status_code == 200:\n",
        "        return response.json().get(\"items\", [])\n",
        "    else:\n",
        "        print(f\"Error: {response.status_code}\")\n",
        "        pprint(response.json())\n",
        "        return []"
      ],
      "metadata": {
        "id": "-pSOv-9Bqjcq"
      },
      "execution_count": null,
      "outputs": []
    },
    {
      "cell_type": "markdown",
      "source": [
        "### - Fetch commits"
      ],
      "metadata": {
        "id": "Xo-eawWjtrKM"
      }
    },
    {
      "cell_type": "code",
      "source": [
        "def get_commits(owner, repo, per_page=10, page=1):\n",
        "    url = f\"https://api.github.com/repos/{owner}/{repo}/commits\"\n",
        "    params = {\"per_page\": per_page, \"page\": page}\n",
        "    response = requests.get(url, headers=HEADERS, params=params)\n",
        "    if response.status_code == 200:\n",
        "        return response.json()\n",
        "    else:\n",
        "        print(f\"Error: {response.status_code}\")\n",
        "        pprint(response.json())\n",
        "        return []"
      ],
      "metadata": {
        "id": "yE-Yk6littsj"
      },
      "execution_count": null,
      "outputs": []
    },
    {
      "cell_type": "markdown",
      "source": [
        "### - Retrieve repository contents"
      ],
      "metadata": {
        "id": "GG4y2XmYufx2"
      }
    },
    {
      "cell_type": "code",
      "source": [
        "def get_contents(owner, repo, path=\"\"):\n",
        "    url = f\"https://api.github.com/repos/{owner}/{repo}/contents/{path}\"\n",
        "    response = requests.get(url, headers=HEADERS)\n",
        "    if response.status_code == 200:\n",
        "        return response.json()\n",
        "    else:\n",
        "        print(f\"Error: {response.status_code}\")\n",
        "        pprint(response.json())\n",
        "        return []"
      ],
      "metadata": {
        "id": "2n8DbpRluiHE"
      },
      "execution_count": null,
      "outputs": []
    },
    {
      "cell_type": "markdown",
      "source": [
        "### - Save data to JSON-file"
      ],
      "metadata": {
        "id": "XKe9bwlliK78"
      }
    },
    {
      "cell_type": "code",
      "source": [
        "def save_to_json(data, filename):\n",
        "    with open(filename, \"w\") as file:\n",
        "        json.dump(data, file, indent=4, ensure_ascii=False)\n",
        "    print(f\"Data saved to {filename}\")"
      ],
      "metadata": {
        "id": "6oD2owC4iQYO"
      },
      "execution_count": null,
      "outputs": []
    },
    {
      "cell_type": "markdown",
      "source": [
        "## 6. Extract data"
      ],
      "metadata": {
        "id": "ajohsbIwwcRZ"
      }
    },
    {
      "cell_type": "markdown",
      "source": [
        "### - Fetch all repositories"
      ],
      "metadata": {
        "id": "hFaN4ULTwhYK"
      }
    },
    {
      "cell_type": "code",
      "source": [
        "all_repositories = search_repositories(query=\"python\", per_page=5)\n",
        "print(f\"Total repositories fetched: {len(all_repositories)}\")\n",
        "save_to_json(all_repositories, \"repositories.json\")"
      ],
      "metadata": {
        "id": "Ma5jIZjXwl6h"
      },
      "execution_count": null,
      "outputs": []
    },
    {
      "cell_type": "markdown",
      "source": [
        "### - Fetch all commits"
      ],
      "metadata": {
        "id": "bGXH6FRcxCY6"
      }
    },
    {
      "cell_type": "code",
      "source": [
        "all_commits = fetch_all_pages(get_commits, owner=\"octocat\", repo=\"Hello-World\", per_page=5)\n",
        "print(f\"Total commits fetched: {len(all_commits)}\")\n",
        "save_to_json(all_commits, \"commits.json\")"
      ],
      "metadata": {
        "id": "zL9F130exFy7"
      },
      "execution_count": null,
      "outputs": []
    },
    {
      "cell_type": "markdown",
      "source": [
        "### - Fetch all repository contents"
      ],
      "metadata": {
        "id": "pdjH_n_-xLQ1"
      }
    },
    {
      "cell_type": "code",
      "source": [
        "all_contents = get_contents(owner=\"Timons172\", repo=\"Library-Management-System\")\n",
        "print(f\"Total contents fetched: {len(all_contents)}\")\n",
        "save_to_json(all_contents, \"contents.json\")"
      ],
      "metadata": {
        "id": "Ujlauog0xQ_c"
      },
      "execution_count": null,
      "outputs": []
    }
  ]
}